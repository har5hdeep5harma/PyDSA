{
 "cells": [
  {
   "cell_type": "markdown",
   "id": "7a4ebd1e-f18d-4a2c-9c8b-1ed9f7948209",
   "metadata": {},
   "source": [
    "# Capitalize words in a list using recursion."
   ]
  },
  {
   "cell_type": "code",
   "execution_count": 1,
   "id": "2babb53a-4224-4c52-ac53-ac27c54fd2a9",
   "metadata": {},
   "outputs": [
    {
     "name": "stdout",
     "output_type": "stream",
     "text": [
      "['I', 'AM', 'LEARNING', 'RECURSION']\n"
     ]
    }
   ],
   "source": [
    "def capitalizeWords(arr):\n",
    "\n",
    "    result = []\n",
    "\n",
    "    if len(arr) == 0:\n",
    "        return result\n",
    "\n",
    "    result.append(arr[0].upper())\n",
    "\n",
    "    return result + capitalizeWords(arr[1:])\n",
    "\n",
    "words = ['i', 'am', 'learning', 'recursion']\n",
    "\n",
    "print(capitalizeWords(words)) \n"
   ]
  },
  {
   "cell_type": "markdown",
   "id": "4ca9b720-4a5f-48d1-8976-c61af34fd902",
   "metadata": {},
   "source": [
    "# Calculate Fibonacci number for a given position using recursion."
   ]
  },
  {
   "cell_type": "code",
   "execution_count": 2,
   "id": "3162724a-e9fe-445b-ab6c-e6e37db19624",
   "metadata": {},
   "outputs": [
    {
     "name": "stdout",
     "output_type": "stream",
     "text": [
      "3\n",
      "55\n",
      "317811\n",
      "9227465\n"
     ]
    }
   ],
   "source": [
    "def fib(num):\n",
    "\n",
    "    if (num < 2):\n",
    "        return num\n",
    "\n",
    "    return fib(num - 1) + fib(num - 2)\n",
    "\n",
    "print(fib(4))\n",
    "\n",
    "print(fib(10))\n",
    "\n",
    "print(fib(28))\n",
    "\n",
    "print(fib(35)) \n"
   ]
  },
  {
   "cell_type": "markdown",
   "id": "18402e84-b05f-4e3c-9fa9-ed11c831c836",
   "metadata": {},
   "source": [
    "# Convert all numbers in a nested dictionary to strings recursively."
   ]
  },
  {
   "cell_type": "code",
   "execution_count": 3,
   "id": "78dc5914-2e6b-44db-a9d8-132355152746",
   "metadata": {},
   "outputs": [
    {
     "name": "stdout",
     "output_type": "stream",
     "text": [
      "{'num': '1', 'test': [], 'data': {'val': '4', 'info': {'isRight': True, 'random': '66'}}}\n"
     ]
    }
   ],
   "source": [
    "def stringifyNumbers(obj):\n",
    "\n",
    "    newObj = obj\n",
    "\n",
    "    for key in newObj:\n",
    "\n",
    "        if type(newObj[key]) is int:\n",
    "            newObj[key] = str(newObj[key])\n",
    "\n",
    "        if type(newObj[key]) is dict:\n",
    "            newObj[key] = stringifyNumbers(newObj[key])\n",
    "\n",
    "    return newObj\n",
    "\n",
    "obj = {\n",
    "    \"num\": 1,\n",
    "    \"test\": [],\n",
    "    \"data\": {\n",
    "        \"val\": 4,\n",
    "        \"info\": {\n",
    "            \"isRight\": True,\n",
    "            \"random\": 66\n",
    "        }\n",
    "    }\n",
    "}\n",
    "\n",
    "print(stringifyNumbers(obj))\n"
   ]
  },
  {
   "cell_type": "markdown",
   "id": "6d1a6248-c928-431d-a321-43f61409a9d2",
   "metadata": {},
   "source": [
    "# Calculate sum of all even numbers in a nested dictionary."
   ]
  },
  {
   "cell_type": "code",
   "execution_count": 4,
   "id": "059e46cb-f03b-45ee-a954-a1aa8d6dc40e",
   "metadata": {},
   "outputs": [
    {
     "name": "stdout",
     "output_type": "stream",
     "text": [
      "6\n",
      "10\n"
     ]
    }
   ],
   "source": [
    "def nestedEvenSum(obj, sum=0):\n",
    "\n",
    "    for key in obj:\n",
    "\n",
    "        if type(obj[key]) is dict:\n",
    "            sum += nestedEvenSum(obj[key])\n",
    "\n",
    "        elif type(obj[key]) is int and obj[key] % 2 == 0:\n",
    "            sum += obj[key]\n",
    "\n",
    "    return sum\n",
    "\n",
    "obj1 = {\n",
    "    \"outer\": 2,\n",
    "    \"obj\": {\n",
    "        \"inner\": 2,\n",
    "        \"otherObj\": {\n",
    "            \"superInner\": 2,\n",
    "            \"notANumber\": True,\n",
    "            \"alsoNotANumber\": \"yup\"\n",
    "        }\n",
    "    }\n",
    "}\n",
    "\n",
    "obj2 = {\n",
    "    \"a\": 2,\n",
    "    \"b\": {\"b\": 2, \"bb\": {\"b\": 3, \"bb\": {\"b\": 2}}},\n",
    "    \"c\": {\"c\": {\"c\": 2}, \"cc\": 'ball', \"ccc\": 5},\n",
    "    \"d\": 1,\n",
    "    \"e\": {\"e\": {\"e\": 2}, \"ee\": 'car'}\n",
    "}\n",
    "\n",
    "print(nestedEvenSum(obj1))\n",
    "\n",
    "print(nestedEvenSum(obj2))"
   ]
  },
  {
   "cell_type": "markdown",
   "id": "9368394d-be0b-4e8f-adb4-af5cc6b4aed9",
   "metadata": {},
   "source": [
    "# Flatten a nested list to a single list using recursion."
   ]
  },
  {
   "cell_type": "code",
   "execution_count": 5,
   "id": "8960e1b2-7d8a-459b-9398-6067644249bd",
   "metadata": {},
   "outputs": [
    {
     "name": "stdout",
     "output_type": "stream",
     "text": [
      "[1, 2, 3, 4, 5]\n",
      "[1, 2, 3, 4, 5]\n",
      "[1, 2, 3]\n",
      "[1, 2, 3]\n"
     ]
    }
   ],
   "source": [
    "def flatten(arr):\n",
    "\n",
    "    resultArr = []\n",
    "\n",
    "    for custItem in arr:\n",
    "\n",
    "        if type(custItem) is list:\n",
    "            resultArr.extend(flatten(custItem))\n",
    "        else:\n",
    "            resultArr.append(custItem)\n",
    "\n",
    "    return resultArr\n",
    "\n",
    "print(flatten([1, 2, 3, [4, 5]])) \n",
    "\n",
    "print(flatten([1, [2, [3, 4], [[5]]]])) \n",
    "\n",
    "print(flatten([[1], [2], [3]])) \n",
    "\n",
    "print(flatten([[[[1], [[[2]]], [[[[[[[3]]]]]]]]]])) \n"
   ]
  },
  {
   "cell_type": "markdown",
   "id": "fbb025d5-1054-4579-bc96-b469461360b3",
   "metadata": {},
   "source": [
    "# Calculate the sum of all numbers from 0 up to a given number."
   ]
  },
  {
   "cell_type": "code",
   "execution_count": 6,
   "id": "ca4b1540-3688-45be-b16f-be870201c966",
   "metadata": {},
   "outputs": [
    {
     "name": "stdout",
     "output_type": "stream",
     "text": [
      "21\n"
     ]
    }
   ],
   "source": [
    "def recursiveRange(num):\n",
    "\n",
    "    if num <= 0:\n",
    "        return 0\n",
    "\n",
    "    return num + recursiveRange(num - 1)\n",
    "\n",
    "print(recursiveRange(6))\n"
   ]
  },
  {
   "cell_type": "markdown",
   "id": "77c65a4e-a76e-4de7-8921-ddb690acd7fb",
   "metadata": {},
   "source": [
    "# Calculate the product of all numbers in an array using recursion."
   ]
  },
  {
   "cell_type": "code",
   "execution_count": 7,
   "id": "b78f2d91-2921-4b35-a55b-9a2671b21291",
   "metadata": {},
   "outputs": [
    {
     "name": "stdout",
     "output_type": "stream",
     "text": [
      "6\n",
      "60\n"
     ]
    }
   ],
   "source": [
    "def productOfArray(arr):\n",
    "\n",
    "    if len(arr) == 0:\n",
    "        return 1\n",
    "\n",
    "    return arr[0] * productOfArray(arr[1:])\n",
    "\n",
    "print(productOfArray([1,2,3])) \n",
    "\n",
    "print(productOfArray([1,2,3,10])) \n"
   ]
  },
  {
   "cell_type": "markdown",
   "id": "c2ffb245-5716-410e-a010-26dc9b9f8721",
   "metadata": {},
   "source": [
    "# Check if a string is a palindrome using recursion."
   ]
  },
  {
   "cell_type": "code",
   "execution_count": 8,
   "id": "77606f38-38b0-46c0-b75a-75b31727eb3c",
   "metadata": {},
   "outputs": [
    {
     "name": "stdout",
     "output_type": "stream",
     "text": [
      "False\n",
      "False\n",
      "True\n",
      "True\n",
      "False\n"
     ]
    }
   ],
   "source": [
    "def isPalindrome(strng):\n",
    "\n",
    "    if len(strng) == 0:\n",
    "        return True\n",
    "\n",
    "    if strng[0] != strng[len(strng)-1]:\n",
    "        return False\n",
    "\n",
    "    return isPalindrome(strng[1:-1])\n",
    "\n",
    "print(isPalindrome('awesome')) \n",
    "\n",
    "print(isPalindrome('foobar')) \n",
    "\n",
    "print(isPalindrome('tacocat')) \n",
    "\n",
    "print(isPalindrome('amanaplanacanalpanama')) \n",
    "\n",
    "print(isPalindrome('amanaplanacanalpandemonium')) "
   ]
  },
  {
   "cell_type": "markdown",
   "id": "4ee98d1c-92b7-444a-922f-1faf3d1b469f",
   "metadata": {},
   "source": [
    "# Sum of Digits."
   ]
  },
  {
   "cell_type": "code",
   "execution_count": 9,
   "id": "897c4d8e-63de-4c5c-9fa2-24d191fb4b31",
   "metadata": {},
   "outputs": [
    {
     "name": "stdout",
     "output_type": "stream",
     "text": [
      "5\n"
     ]
    }
   ],
   "source": [
    "def sumofDigits(n):\n",
    "\n",
    "    assert n >= 0 and int(n) == n, 'The number has to be a positive integer only!'\n",
    "\n",
    "    if n == 0:\n",
    "        return 0\n",
    "    else:\n",
    "        return int(n % 10) + sumofDigits(int(n / 10))\n",
    "\n",
    "print(sumofDigits(11111))"
   ]
  },
  {
   "cell_type": "markdown",
   "id": "c365b13e-3320-458d-9432-6907ce9b2484",
   "metadata": {},
   "source": [
    "# Power Function."
   ]
  },
  {
   "cell_type": "code",
   "execution_count": 10,
   "id": "cc9a1e56-1b35-45b0-a5d0-8f44f7aedf50",
   "metadata": {},
   "outputs": [
    {
     "name": "stdout",
     "output_type": "stream",
     "text": [
      "16\n"
     ]
    }
   ],
   "source": [
    "def power(base, exp):\n",
    "\n",
    "    if exp == 0:\n",
    "        return 1\n",
    "\n",
    "    if(exp == 1):\n",
    "        return(base)\n",
    "\n",
    "    if(exp != 1):\n",
    "        return (base * power(base, exp - 1))\n",
    "\n",
    "print(power(4, 2))"
   ]
  },
  {
   "cell_type": "markdown",
   "id": "5ef0c54e-1627-46db-b41b-82f29e2034cb",
   "metadata": {},
   "source": [
    "# GCD."
   ]
  },
  {
   "cell_type": "code",
   "execution_count": 11,
   "id": "40b5843e-0514-4ae7-9599-5444b7eda095",
   "metadata": {},
   "outputs": [
    {
     "ename": "AssertionError",
     "evalue": "The numbers must be integer only!",
     "output_type": "error",
     "traceback": [
      "\u001b[1;31m---------------------------------------------------------------------------\u001b[0m",
      "\u001b[1;31mAssertionError\u001b[0m                            Traceback (most recent call last)",
      "Cell \u001b[1;32mIn[11], line 16\u001b[0m\n\u001b[0;32m     13\u001b[0m     \u001b[38;5;28;01melse\u001b[39;00m:\n\u001b[0;32m     14\u001b[0m         \u001b[38;5;28;01mreturn\u001b[39;00m gcd(b, a \u001b[38;5;241m%\u001b[39m b)\n\u001b[1;32m---> 16\u001b[0m \u001b[38;5;28mprint\u001b[39m(gcd(\u001b[38;5;241m12\u001b[39m, \u001b[38;5;241m1.2\u001b[39m))\n",
      "Cell \u001b[1;32mIn[11], line 3\u001b[0m, in \u001b[0;36mgcd\u001b[1;34m(a, b)\u001b[0m\n\u001b[0;32m      1\u001b[0m \u001b[38;5;28;01mdef\u001b[39;00m\u001b[38;5;250m \u001b[39m\u001b[38;5;21mgcd\u001b[39m(a, b):\n\u001b[1;32m----> 3\u001b[0m     \u001b[38;5;28;01massert\u001b[39;00m \u001b[38;5;28mint\u001b[39m(a) \u001b[38;5;241m==\u001b[39m a \u001b[38;5;129;01mand\u001b[39;00m \u001b[38;5;28mint\u001b[39m(b) \u001b[38;5;241m==\u001b[39m b, \u001b[38;5;124m'\u001b[39m\u001b[38;5;124mThe numbers must be integer only!\u001b[39m\u001b[38;5;124m'\u001b[39m\n\u001b[0;32m      5\u001b[0m     \u001b[38;5;28;01mif\u001b[39;00m a \u001b[38;5;241m<\u001b[39m \u001b[38;5;241m0\u001b[39m:\n\u001b[0;32m      6\u001b[0m         a \u001b[38;5;241m=\u001b[39m \u001b[38;5;241m-\u001b[39m\u001b[38;5;241m1\u001b[39m \u001b[38;5;241m*\u001b[39m a\n",
      "\u001b[1;31mAssertionError\u001b[0m: The numbers must be integer only!"
     ]
    }
   ],
   "source": [
    "def gcd(a, b):\n",
    "\n",
    "    assert int(a) == a and int(b) == b, 'The numbers must be integer only!'\n",
    "\n",
    "    if a < 0:\n",
    "        a = -1 * a\n",
    "\n",
    "    if b < 0:\n",
    "        b = -1 * b\n",
    "\n",
    "    if b == 0:\n",
    "        return a\n",
    "    else:\n",
    "        return gcd(b, a % b)\n",
    "\n",
    "print(gcd(12, 1.2))"
   ]
  },
  {
   "cell_type": "markdown",
   "id": "1f217853-59b3-4b48-964f-f4793d972c6e",
   "metadata": {},
   "source": [
    "# Check if some elements in an array satisfy a callback function recursively."
   ]
  },
  {
   "cell_type": "code",
   "execution_count": 14,
   "id": "38c29f3d-66fe-462f-960f-52c95fe6773c",
   "metadata": {},
   "outputs": [
    {
     "name": "stdout",
     "output_type": "stream",
     "text": [
      "True\n",
      "True\n",
      "False\n"
     ]
    }
   ],
   "source": [
    "def someRecursive(arr, cb):\n",
    "\n",
    "    if len(arr) == 0:\n",
    "        return False\n",
    "\n",
    "    if not(cb(arr[0])):\n",
    "        return someRecursive(arr[1:], cb)\n",
    "\n",
    "    return True\n",
    "\n",
    "def isOdd(num):\n",
    "    if num % 2 == 0:\n",
    "        return False\n",
    "    else:\n",
    "        return True\n",
    "\n",
    "print(someRecursive([1, 2, 3, 4], isOdd)) \n",
    "\n",
    "print(someRecursive([4, 6, 8, 9], isOdd)) \n",
    "\n",
    "print(someRecursive([4, 6, 8], isOdd)) "
   ]
  },
  {
   "cell_type": "markdown",
   "id": "e2a4b670-d50f-462b-8b1a-bf3851d71d57",
   "metadata": {},
   "source": [
    "# Calculate the factorial of a number using recursion."
   ]
  },
  {
   "cell_type": "code",
   "execution_count": 15,
   "id": "03e90eb1-d65f-40a0-a0cc-8b4559b4cb46",
   "metadata": {},
   "outputs": [
    {
     "name": "stdout",
     "output_type": "stream",
     "text": [
      "1\n",
      "2\n",
      "24\n",
      "5040\n"
     ]
    }
   ],
   "source": [
    "def factorial(num):\n",
    "\n",
    "    if num <= 1:\n",
    "        return 1\n",
    "\n",
    "    return num * factorial(num - 1)\n",
    "\n",
    "print(factorial(1)) \n",
    "\n",
    "print(factorial(2)) \n",
    "\n",
    "print(factorial(4)) \n",
    "\n",
    "print(factorial(7)) \n"
   ]
  },
  {
   "cell_type": "markdown",
   "id": "37d1bf8d-674d-4f17-abe8-96b0909eb7e1",
   "metadata": {},
   "source": [
    "# Reverse a string using recursion."
   ]
  },
  {
   "cell_type": "code",
   "execution_count": 16,
   "id": "5d19d4ec-0ad5-4520-86a1-c5dcf5d65da5",
   "metadata": {},
   "outputs": [
    {
     "name": "stdout",
     "output_type": "stream",
     "text": [
      "nohtyp\n",
      "srellimppa\n"
     ]
    }
   ],
   "source": [
    "def reverse(strng):\n",
    "\n",
    "    if len(strng) <= 1:\n",
    "        return strng\n",
    "\n",
    "    return strng[len(strng) - 1] + reverse(strng[0:len(strng) - 1])\n",
    "\n",
    "print(reverse('python'))\n",
    "\n",
    "print(reverse('appmillers')) "
   ]
  }
 ],
 "metadata": {
  "kernelspec": {
   "display_name": "Python 3 (ipykernel)",
   "language": "python",
   "name": "python3"
  },
  "language_info": {
   "codemirror_mode": {
    "name": "ipython",
    "version": 3
   },
   "file_extension": ".py",
   "mimetype": "text/x-python",
   "name": "python",
   "nbconvert_exporter": "python",
   "pygments_lexer": "ipython3",
   "version": "3.13.5"
  }
 },
 "nbformat": 4,
 "nbformat_minor": 5
}
