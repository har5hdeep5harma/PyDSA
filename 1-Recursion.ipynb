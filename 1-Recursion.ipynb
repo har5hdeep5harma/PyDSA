{
 "cells": [
  {
   "cell_type": "markdown",
   "id": "3131567d-5a41-4a1b-918e-2e0ab966c1e9",
   "metadata": {},
   "source": [
    "# Recursion in Python\n",
    "\n",
    "This notebook covers the concept of recursion in Python with examples such as:\n",
    "- Basic recursion methods\n",
    "- Recursion vs Iteration\n",
    "- Factorial calculation\n",
    "- Fibonacci sequence\n"
   ]
  },
  {
   "cell_type": "markdown",
   "id": "cdaeb2c6-9d67-4ca4-926d-1ccd920d98be",
   "metadata": {},
   "source": [
    "## Recursion\n",
    "Recursion is a programming technique where a function calls itself to solve a problem."
   ]
  },
  {
   "cell_type": "markdown",
   "id": "47b9388a-a24a-4b7b-abcd-b7d4ccbbe2db",
   "metadata": {},
   "source": [
    "<img src=\"https://media.geeksforgeeks.org/wp-content/cdn-uploads/Recursive-Functions-in-c.png\">"
   ]
  },
  {
   "cell_type": "markdown",
   "id": "5a79b187-6d34-4258-8d6d-68b0318afddf",
   "metadata": {},
   "source": [
    "## Example: Method Calls using Recursion\n",
    "\n",
    "Here we show how multiple methods can call each other recursively.\n"
   ]
  },
  {
   "cell_type": "code",
   "execution_count": 1,
   "id": "c133c9eb-da06-47fc-a501-c52b5cb8791a",
   "metadata": {},
   "outputs": [
    {
     "name": "stdout",
     "output_type": "stream",
     "text": [
      "I am the fourth Method\n",
      "I am the third Method\n",
      "I am the second Method\n",
      "I am the first Method\n"
     ]
    }
   ],
   "source": [
    "def firstMethod():\n",
    "    secondMethod()\n",
    "    print(\"I am the first Method\")\n",
    "\n",
    "def secondMethod():\n",
    "    thirdMethod()\n",
    "    print(\"I am the second Method\")\n",
    "\n",
    "def thirdMethod():\n",
    "    fourthMethod()\n",
    "    print(\"I am the third Method\")\n",
    "\n",
    "def fourthMethod():\n",
    "    print(\"I am the fourth Method\")\n",
    "\n",
    "firstMethod()\n"
   ]
  },
  {
   "cell_type": "markdown",
   "id": "22d7a237-2ac4-4402-abed-aa289496cd60",
   "metadata": {},
   "source": [
    "## Recursive Method Printing Numbers\n",
    "This function demonstrates recursion by counting down until `n < 1` \n",
    "and then printing numbers during the backtracking phase."
   ]
  },
  {
   "cell_type": "code",
   "execution_count": 2,
   "id": "c297dc73-57cc-4a92-830c-a0a376f59ebb",
   "metadata": {},
   "outputs": [
    {
     "name": "stdout",
     "output_type": "stream",
     "text": [
      "n is less than 1\n",
      "1\n",
      "2\n",
      "3\n",
      "4\n"
     ]
    }
   ],
   "source": [
    "def recursiveMethod(n):\n",
    "    if n < 1:\n",
    "        print(\"n is less than 1\")\n",
    "    else: \n",
    "        recursiveMethod(n-1)\n",
    "        print(n)\n",
    "\n",
    "recursiveMethod(4)\n"
   ]
  },
  {
   "cell_type": "markdown",
   "id": "7d76dc29-b442-424c-b3d9-59d12917825e",
   "metadata": {},
   "source": [
    "## Recursion vs Iteration"
   ]
  },
  {
   "cell_type": "markdown",
   "id": "b0996f0b-bfeb-456f-b221-5ca4b0994315",
   "metadata": {},
   "source": [
    "<img src=\"https://miro.medium.com/v2/resize:fit:1400/1*dXFC8vq6xJ8Ud1Zeu24eUQ.png\">"
   ]
  },
  {
   "cell_type": "markdown",
   "id": "b5a548f7-2c99-4ffd-a20e-89e1f333b1c2",
   "metadata": {},
   "source": [
    "We compare recursive and iterative implementations of calculating powers of two."
   ]
  },
  {
   "cell_type": "code",
   "execution_count": 3,
   "id": "29cdc903-30ae-4678-ba16-c4d6051b73ec",
   "metadata": {},
   "outputs": [
    {
     "name": "stdout",
     "output_type": "stream",
     "text": [
      "Recursive powerOfTwo(3): 8\n",
      "Iterative powerOfTwoIt(4): 16\n"
     ]
    }
   ],
   "source": [
    "# Recursive implementation\n",
    "def powerOfTwo(n):\n",
    "    if n == 0:\n",
    "        return 1\n",
    "    else:\n",
    "        power = powerOfTwo(n-1)\n",
    "        return power * 2\n",
    "\n",
    "print(\"Recursive powerOfTwo(3):\", powerOfTwo(3))\n",
    "\n",
    "\n",
    "# Iterative implementation\n",
    "def powerOfTwoIt(n):\n",
    "    i = 0\n",
    "    power = 1\n",
    "    while i < n:\n",
    "        power = power * 2\n",
    "        i = i + 1\n",
    "    return power\n",
    "\n",
    "print(\"Iterative powerOfTwoIt(4):\", powerOfTwoIt(4))\n"
   ]
  },
  {
   "cell_type": "markdown",
   "id": "b5fd4c79-c711-40a0-b500-6c79fa0a194e",
   "metadata": {},
   "source": [
    "## Factorial using Recursion"
   ]
  },
  {
   "cell_type": "markdown",
   "id": "8f826455-e578-46be-bbf5-4207077af27d",
   "metadata": {},
   "source": [
    "<img src=\"https://dotnettutorials.net/wp-content/uploads/2021/11/Fact_Tree_1_To_4.png\">"
   ]
  },
  {
   "cell_type": "markdown",
   "id": "0005fb65-d1e7-42ac-adb5-b98b6f113971",
   "metadata": {},
   "source": [
    "The factorial function is a classic recursion example:\n",
    "- **Base case**: factorial(0) = factorial(1) = 1\n",
    "- **Recursive case**: factorial(n) = n * factorial(n-1)"
   ]
  },
  {
   "cell_type": "code",
   "execution_count": 4,
   "id": "dcfa0103-d50e-4b4e-a3cb-5ae1254985bd",
   "metadata": {},
   "outputs": [
    {
     "name": "stdout",
     "output_type": "stream",
     "text": [
      "Factorial of 5: 120\n"
     ]
    }
   ],
   "source": [
    "def factorial(n):\n",
    "    assert n >= 0 and int(n) == n, 'The number must be positive integer only!'\n",
    "    if n in [0, 1]:\n",
    "        return 1\n",
    "    else:\n",
    "        return n * factorial(n-1)\n",
    "\n",
    "print(\"Factorial of 5:\", factorial(5))\n"
   ]
  },
  {
   "cell_type": "markdown",
   "id": "6e89b0f0-fdf8-485c-90f6-baf691c863e3",
   "metadata": {},
   "source": [
    "## Fibonacci using Recursion"
   ]
  },
  {
   "cell_type": "code",
   "execution_count": null,
   "id": "c07020d5-8dac-4ca2-a041-e43b3d8b33e3",
   "metadata": {},
   "outputs": [],
   "source": []
  }
 ],
 "metadata": {
  "kernelspec": {
   "display_name": "Python 3 (ipykernel)",
   "language": "python",
   "name": "python3"
  },
  "language_info": {
   "codemirror_mode": {
    "name": "ipython",
    "version": 3
   },
   "file_extension": ".py",
   "mimetype": "text/x-python",
   "name": "python",
   "nbconvert_exporter": "python",
   "pygments_lexer": "ipython3",
   "version": "3.13.5"
  }
 },
 "nbformat": 4,
 "nbformat_minor": 5
}
